{
  "nbformat": 4,
  "nbformat_minor": 0,
  "metadata": {
    "colab": {
      "provenance": [],
      "authorship_tag": "ABX9TyM5fhs3DWOatBnxlkK49ZI7",
      "include_colab_link": true
    },
    "kernelspec": {
      "name": "python3",
      "display_name": "Python 3"
    },
    "language_info": {
      "name": "python"
    }
  },
  "cells": [
    {
      "cell_type": "markdown",
      "metadata": {
        "id": "view-in-github",
        "colab_type": "text"
      },
      "source": [
        "<a href=\"https://colab.research.google.com/github/sabrinaMKE201073/Power-BI/blob/main/Create_Dashboard_(Power_BI).ipynb\" target=\"_parent\"><img src=\"https://colab.research.google.com/assets/colab-badge.svg\" alt=\"Open In Colab\"/></a>"
      ]
    },
    {
      "cell_type": "markdown",
      "source": [
        "<H2><b>Create Dashboard using POWER BI</h2>\n",
        "\n",
        "- Business Intelligence (BI) is a field of expertise that uses data to `improve decision-making within organizations`.\n",
        "- Different tools, such as Power BI, are used to do this.\n",
        "\n",
        "---\n",
        "\n",
        "<h3><b>Function of Power BI:</b>\n",
        "\n",
        "- Consolidate different sources and clean up, transform, and aggregate data.\n",
        "\n",
        "- Set key performance indicators (KPIs) that are useful to the company.\n",
        "\n",
        "- Format analyses using visual dashboards.\n",
        "\n",
        "- Share information with different groups of users.  \n",
        "\n",
        "<p align=\"center\">\n",
        "  <img src=\"https://github.com/sabrinaMKE201073/test-html-coding/assets/95947484/7efaa105-e0f2-4f4c-8ef7-e9c062d37ada\">\n",
        "</p>"
      ],
      "metadata": {
        "id": "YmUoAXAqo-O2"
      }
    },
    {
      "cell_type": "markdown",
      "source": [
        "<h2><b>Main Sources of Data within company</h2>\n",
        "\n",
        "- Any mid-sized or large company will have databases where they store all of their useful information about customers, their transactions, and operations.\n",
        "\n",
        "\n",
        "<p align=\"center\">\n",
        "  <img src=\"https://github.com/sabrinaMKE201073/test-html-coding/assets/95947484/ca27d233-0045-45e2-8110-0e1b3bd55980\">\n",
        "</p>\n",
        "\n",
        "\n",
        "- What to do if don't have any data for the specific project?\n",
        "    - create your own data by running a survey, for example. You could send out a questionnaire every quarter of year using Microsoft Forms.\n",
        "    - Be creative! Any information can be gathered directly or indirectly transformed into digital data for your analysis and reporting needs.\n",
        "    - Take time to consider:\n",
        "     1) The information you want to gather.\n",
        "     2) The format required to be able to use it.\n",
        "    - This will save you time at the analysis stage.\n",
        "\n"
      ],
      "metadata": {
        "id": "08H_dbkCzSVq"
      }
    },
    {
      "cell_type": "markdown",
      "source": [
        "<h1><b>Data Security and Protection</b>\n",
        "\n",
        "If you plan to use sensitive data such as:\n",
        "- Personal data on customers or employees.\n",
        "- Financial data (for publicly traded companies, in particular)\n",
        "- Confidential data on company operation\n",
        "\n",
        "Be sure to follow the best practice as follows:\n",
        "\n",
        "<p align=\"center\">\n",
        "  <img src=\"https://github.com/sabrinaMKE201073/test-html-coding/assets/95947484/3aaae6c6-9dbb-4edd-9275-88c57272075d\">\n",
        "</p>\n",
        "\n"
      ],
      "metadata": {
        "id": "Z4Mx59wx2arD"
      }
    },
    {
      "cell_type": "markdown",
      "source": [
        "Example Project 1\n",
        "\n",
        "- Case: Employees at Global Bank have noticed that:\n",
        "  - Mortgage-application files are of varying quality across their network of branches.\n",
        "  - The length of time it takes to make a decision on whether to approve or reject a mortgage application is far too long.\n",
        "- Apply Best Practices to Set Your Project Scope:\n",
        "  - PMI\n",
        "  - SCRUM\n",
        "  - Design Thinking\n",
        "\n",
        "\n",
        "1. Meet the End Users\n",
        "2. Meet With Stakeholders\n",
        "3. Create User Stories\n",
        "4. Use examples to Help the Group Visualize\n",
        "5. Prototype the Solution With a Wireframe\n",
        "<p align=\"center\">\n",
        "  <img src=\"https://github.com/sabrinaMKE201073/test-html-coding/assets/95947484/cb20babf-b54b-4fa3-b448-39bba7236f61\">\n",
        "</p>\n",
        "\n",
        "<p align=\"center\">\n",
        "  <img src=\"https://github.com/sabrinaMKE201073/test-html-coding/assets/95947484/eed73d60-9e98-4853-a939-cf5bc2ad1a58\">\n",
        "</p>\n",
        "\n",
        "    - For this project for Global Bank, we’ll have a home page that contains user instructions, from which users can access three pages:\n",
        "    - Global indicators.\n",
        "    - Branch performance.\n",
        "    - Indicators and search page.\n",
        "\n",
        "\n",
        "6. Organize Regular Progress Reports"
      ],
      "metadata": {
        "id": "OLqkBGe79i5Z"
      }
    },
    {
      "cell_type": "markdown",
      "source": [
        "<h1><b>Way to Create Your Visualization Report in Power BI</b>\n",
        "\n",
        "- Importing data to Power BI is really easy, and lots of formats are supported.\n",
        "\n",
        "- Pre-visualize your data before importing it, and use Power Query Editor to check your data or to apply transformations.\n",
        "\n",
        "- Visualize your data in table form in the Data tab to the left of the screen.\n",
        "\n",
        "- Add visualizations to the canvas by clicking and dragging your data into your visualization from the data fields pane.\n",
        "---\n",
        "\n",
        "When you're designing visualizations for a dashboard, always ask yourself the following questions:\n",
        "\n",
        "- What?\n",
        "\n",
        "- Why?\n",
        "\n",
        "- How?\n",
        "\n",
        "\n",
        "<p align=\"center\">\n",
        "  <img src=\"https://github.com/sabrinaMKE201073/test-html-coding/assets/95947484/ee4d916d-7058-4127-b13c-9a0fe3417ad8\">\n",
        "</p>\n",
        "\n",
        "\n",
        "<p align=\"center\">\n",
        "  <img src=\"https://github.com/sabrinaMKE201073/test-html-coding/assets/95947484/64c8816c-8455-4952-9f8e-2b3fc5b26e44\">\n",
        "</p>\n",
        "\n",
        "\n",
        "Example 1: Good visualization for Approved & Rejected Mortgage Application by year from 2018 to 2021 (Source: Power BI)\n",
        "<p align=\"center\">\n",
        "  <img src=\"https://github.com/sabrinaMKE201073/test-html-coding/assets/95947484/507e1340-64d4-46f7-a163-d9c9f84ab877\">\n",
        "</p>"
      ],
      "metadata": {
        "id": "jnzSV84O6H26"
      }
    },
    {
      "cell_type": "markdown",
      "source": [
        "<h2><b>Basic Visualizations in Power BI</h2>\n",
        "\n",
        "\n",
        "<p align=\"center\">\n",
        "  <img src=\"https://github.com/sabrinaMKE201073/test-html-coding/assets/95947484/0814b7bd-7057-4725-9bd7-d59402e5ee9d\">\n",
        "</p>\n",
        "\n",
        "\n",
        "<p align=\"center\">\n",
        "  <img src=\"https://github.com/sabrinaMKE201073/test-html-coding/assets/95947484/49ab0f46-39e0-4223-9d1f-33f06a755ee9\">\n",
        "</p>\n"
      ],
      "metadata": {
        "id": "WtR1MKi3EaCG"
      }
    },
    {
      "cell_type": "code",
      "source": [],
      "metadata": {
        "id": "PwG9Kh9PpIVJ"
      },
      "execution_count": null,
      "outputs": []
    },
    {
      "cell_type": "code",
      "execution_count": null,
      "metadata": {
        "id": "jDzZeILXo6cs"
      },
      "outputs": [],
      "source": []
    }
  ]
}